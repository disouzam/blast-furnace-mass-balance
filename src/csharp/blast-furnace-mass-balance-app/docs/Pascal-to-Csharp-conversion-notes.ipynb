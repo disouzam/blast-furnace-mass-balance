{
 "cells": [
  {
   "cell_type": "markdown",
   "metadata": {},
   "source": [
    "# About this document\n",
    "\n",
    "This document intends to explain the process of extraction of Pascal code excerpts to corresponding C# code. As the original work has been done in 2006 - explained here [Nostalgia and experience with programming languages](https://www.linkedin.com/pulse/03-nostalgia-experience-programming-languages-alves-de-souza/), much of original code is not clearly understood right now.\n",
    "\n",
    "Besides this notebook, a copy of formatted Pascal code has been made and added to docs folder to enable annotations directly in the Pascal code."
   ]
  }
 ],
 "metadata": {
  "kernelspec": {
   "display_name": ".NET (C#)",
   "language": "C#",
   "name": ".net-csharp"
  },
  "language_info": {
   "name": "C#"
  }
 },
 "nbformat": 4,
 "nbformat_minor": 2
}
